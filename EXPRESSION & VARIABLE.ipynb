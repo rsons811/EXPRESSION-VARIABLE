{
 "cells": [
  {
   "cell_type": "markdown",
   "id": "9a7e6fd7-5871-4919-a13b-40e36a80c485",
   "metadata": {},
   "source": [
    "# EXPRESSION AND VARIABLES"
   ]
  },
  {
   "cell_type": "markdown",
   "id": "171d20b8-5482-4b47-81b6-7bfab7b0b122",
   "metadata": {},
   "source": [
    " |EAPRESSION|VARIABLE|\n",
    " |-----|-----|\n",
    " |ADDITION|Store value into variable|\n",
    " |43 + 60 + 16 + 41|X=43 + 60 + 16 + 41|\n",
    " |SUBTRACTION|SUBTRACTION|\n",
    " |50 - 60|Y=50-60|\n",
    " |MULTIPLICATION|MULTIPLICATION|\n",
    " |5*5|Z=5*5|\n",
    " |DIVISION WITH FORWARD SLASH|DIVISION WITH FORWARD SLASH|\n",
    " |25/5 OR 25/6|A=25/5 OR 25/6|\n",
    " |DIVISION WITH DOUBLE SLASH TO GET ROUNDED DOWN TO A NEAREST INTERGER|DIVISION WITH DOUBLE SLASH TO GET ROUNDED DOWN TO A NEAREST INTERGER|\n",
    " |25//5 OR 25//6|S=25//5 OR 25//6|\n",
    " |MATHEMATICAL EXPRESSION|MATHEMATICAL EXPRESSION|\n",
    " |30+(2*60)|F=30+(2*60)|\n",
    " |(30+2)*60)|Q=(30+2)*60)|\n",
    " \n",
    " \n",
    " "
   ]
  },
  {
   "cell_type": "markdown",
   "id": "736a6a71-759f-422c-b3df-5323150bf306",
   "metadata": {},
   "source": [
    "# Exercise: Expressions in Python"
   ]
  },
  {
   "cell_type": "markdown",
   "id": "39f6c15c-3439-4785-a4a7-c2f0ab3d2541",
   "metadata": {},
   "source": [
    "##  Q= Write an expression to add 30 and 20 and subtract 40"
   ]
  },
  {
   "cell_type": "code",
   "execution_count": 3,
   "id": "09a39e43-f85c-409f-bdb5-c1c083f877ba",
   "metadata": {},
   "outputs": [
    {
     "data": {
      "text/plain": [
       "10"
      ]
     },
     "execution_count": 3,
     "metadata": {},
     "output_type": "execute_result"
    }
   ],
   "source": [
    "30+20-40"
   ]
  },
  {
   "cell_type": "markdown",
   "id": "aff814d7-7687-4ad1-bb5f-662db73594f4",
   "metadata": {},
   "source": [
    "## Q= Write an expression to subtract 5 from 55 and divide the result by 10"
   ]
  },
  {
   "cell_type": "code",
   "execution_count": 5,
   "id": "1588efe9-3c10-4b4d-b97b-00c55f6a6bb2",
   "metadata": {},
   "outputs": [
    {
     "data": {
      "text/plain": [
       "5.0"
      ]
     },
     "execution_count": 5,
     "metadata": {},
     "output_type": "execute_result"
    }
   ],
   "source": [
    "(55-5)/10"
   ]
  },
  {
   "cell_type": "markdown",
   "id": "ba5d0e7f-90ac-48d0-b6e7-dd7ffbda7324",
   "metadata": {},
   "source": [
    "## Write an expression to multiply 6 with 10 and divide the result by 12"
   ]
  },
  {
   "cell_type": "code",
   "execution_count": 6,
   "id": "d68c3d2d-6f60-4219-a13b-29bd4bfcc869",
   "metadata": {},
   "outputs": [
    {
     "data": {
      "text/plain": [
       "5.0"
      ]
     },
     "execution_count": 6,
     "metadata": {},
     "output_type": "execute_result"
    }
   ],
   "source": [
    "(6*10)/12"
   ]
  },
  {
   "cell_type": "markdown",
   "id": "825e27eb-27a7-4644-8f6f-eaf63bb8fb1d",
   "metadata": {},
   "source": [
    "# Exercise: Variables in Python"
   ]
  },
  {
   "cell_type": "markdown",
   "id": "c6e7fe10-13e1-40d1-9be4-d76462f27f6c",
   "metadata": {},
   "source": [
    "## What is the value of x where x = 3 + 2 * 2"
   ]
  },
  {
   "cell_type": "code",
   "execution_count": 10,
   "id": "51efb6e6-cf03-47a9-94e7-1718595ed973",
   "metadata": {},
   "outputs": [
    {
     "name": "stdout",
     "output_type": "stream",
     "text": [
      "7\n"
     ]
    }
   ],
   "source": [
    "X=3+2*2\n",
    "print(X)"
   ]
  },
  {
   "cell_type": "markdown",
   "id": "607f503c-8d97-495a-9cab-757b5b4ab6e9",
   "metadata": {},
   "source": [
    "## What is the value of y where y = (3 + 2) * 2?"
   ]
  },
  {
   "cell_type": "code",
   "execution_count": 12,
   "id": "e6a55c07-3d96-4bf8-8e99-5d164bb3a291",
   "metadata": {},
   "outputs": [
    {
     "name": "stdout",
     "output_type": "stream",
     "text": [
      "10\n"
     ]
    }
   ],
   "source": [
    "y=(3+2)*2\n",
    "print(y)"
   ]
  },
  {
   "cell_type": "markdown",
   "id": "fcf43cfc-409e-4ca3-9d75-32eacdfe90db",
   "metadata": {},
   "source": [
    "## What is the value of z where z = x + y?"
   ]
  },
  {
   "cell_type": "code",
   "execution_count": 14,
   "id": "dc110e07-9cb8-44a5-bb8a-84f08044e0da",
   "metadata": {},
   "outputs": [
    {
     "name": "stdout",
     "output_type": "stream",
     "text": [
      "17\n"
     ]
    }
   ],
   "source": [
    "z=X+y\n",
    "print(z)"
   ]
  },
  {
   "cell_type": "code",
   "execution_count": null,
   "id": "17d277ba-c798-4eec-a7be-28c8daa78b8c",
   "metadata": {},
   "outputs": [],
   "source": []
  }
 ],
 "metadata": {
  "kernelspec": {
   "display_name": "Python 3 (ipykernel)",
   "language": "python",
   "name": "python3"
  },
  "language_info": {
   "codemirror_mode": {
    "name": "ipython",
    "version": 3
   },
   "file_extension": ".py",
   "mimetype": "text/x-python",
   "name": "python",
   "nbconvert_exporter": "python",
   "pygments_lexer": "ipython3",
   "version": "3.12.4"
  }
 },
 "nbformat": 4,
 "nbformat_minor": 5
}
